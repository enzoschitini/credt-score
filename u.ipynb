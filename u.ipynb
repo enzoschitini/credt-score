{
 "cells": [
  {
   "cell_type": "code",
   "execution_count": null,
   "metadata": {},
   "outputs": [],
   "source": [
    "import pandas as pd\n",
    "import os\n",
    "\n",
    "# Lista de arquivos CSV a serem unidos\n",
    "arquivos_csv = ['dados_parte_1.csv', 'dados_parte_2.csv']  # Adicione os nomes dos arquivos\n",
    "\n",
    "# DataFrame vazio para armazenar os dados unidos\n",
    "df_unido = pd.DataFrame()\n",
    "\n",
    "# Loop para ler e concatenar os arquivos CSV\n",
    "for arquivo in arquivos_csv:\n",
    "    df_temp = pd.read_csv(arquivo)\n",
    "    df_unido = pd.concat([df_unido, df_temp], ignore_index=True)\n",
    "\n",
    "# Salva o DataFrame unido em um novo arquivo CSV\n",
    "df_unido.to_csv('credit_scoring.csv', index=False)\n",
    "\n",
    "\n",
    "print('Arquivos CSV unidos com sucesso!')"
   ]
  }
 ],
 "metadata": {
  "language_info": {
   "name": "python"
  }
 },
 "nbformat": 4,
 "nbformat_minor": 2
}
